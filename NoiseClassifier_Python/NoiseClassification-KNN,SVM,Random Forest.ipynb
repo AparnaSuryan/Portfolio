{
 "cells": [
  {
   "cell_type": "markdown",
   "metadata": {},
   "source": [
    "# Importing the Required Libraries"
   ]
  },
  {
   "cell_type": "code",
   "execution_count": 91,
   "metadata": {},
   "outputs": [],
   "source": [
    "import pandas as pd\n",
    "from sklearn.ensemble import RandomForestClassifier\n",
    "from sklearn.metrics import accuracy_score, confusion_matrix\n",
    "from sklearn.metrics import precision_score, recall_score\n",
    "from sklearn.model_selection import train_test_split\n",
    "from sklearn.neighbors import KNeighborsClassifier\n",
    "import matplotlib.pyplot as plt\n",
    "import seaborn as sns\n",
    "import numpy as np\n",
    "from sklearn.metrics import precision_recall_curve\n",
    "from sklearn.model_selection import GridSearchCV\n",
    "from sklearn.metrics import classification_report\n",
    "from sklearn.svm import SVC\n",
    "from sklearn.preprocessing import LabelEncoder\n",
    "from sklearn.metrics import accuracy_score\n",
    "import ast\n",
    "from sklearn.model_selection import cross_val_score, KFold"
   ]
  },
  {
   "cell_type": "markdown",
   "metadata": {},
   "source": [
    "## Creating Data Frame"
   ]
  },
  {
   "cell_type": "code",
   "execution_count": 92,
   "metadata": {},
   "outputs": [],
   "source": [
    "df = pd.read_csv('trial3.csv')"
   ]
  },
  {
   "cell_type": "markdown",
   "metadata": {},
   "source": [
    "### To Print first 5 rows of the data frame"
   ]
  },
  {
   "cell_type": "code",
   "execution_count": 93,
   "metadata": {},
   "outputs": [
    {
     "data": {
      "text/html": [
       "<div>\n",
       "<style scoped>\n",
       "    .dataframe tbody tr th:only-of-type {\n",
       "        vertical-align: middle;\n",
       "    }\n",
       "\n",
       "    .dataframe tbody tr th {\n",
       "        vertical-align: top;\n",
       "    }\n",
       "\n",
       "    .dataframe thead th {\n",
       "        text-align: right;\n",
       "    }\n",
       "</style>\n",
       "<table border=\"1\" class=\"dataframe\">\n",
       "  <thead>\n",
       "    <tr style=\"text-align: right;\">\n",
       "      <th></th>\n",
       "      <th>feature</th>\n",
       "      <th>class</th>\n",
       "    </tr>\n",
       "  </thead>\n",
       "  <tbody>\n",
       "    <tr>\n",
       "      <th>0</th>\n",
       "      <td>[-217.35526      70.22338    -130.38527     -5...</td>\n",
       "      <td>dog_bark</td>\n",
       "    </tr>\n",
       "    <tr>\n",
       "      <th>1</th>\n",
       "      <td>[-4.2409818e+02  1.0934077e+02 -5.2919525e+01 ...</td>\n",
       "      <td>children_playing</td>\n",
       "    </tr>\n",
       "    <tr>\n",
       "      <th>2</th>\n",
       "      <td>[-4.5879114e+02  1.2138419e+02 -4.6520657e+01 ...</td>\n",
       "      <td>children_playing</td>\n",
       "    </tr>\n",
       "    <tr>\n",
       "      <th>3</th>\n",
       "      <td>[-413.89984     101.66373     -35.42945      5...</td>\n",
       "      <td>children_playing</td>\n",
       "    </tr>\n",
       "    <tr>\n",
       "      <th>4</th>\n",
       "      <td>[-4.4660352e+02  1.1368541e+02 -5.2402206e+01 ...</td>\n",
       "      <td>children_playing</td>\n",
       "    </tr>\n",
       "  </tbody>\n",
       "</table>\n",
       "</div>"
      ],
      "text/plain": [
       "                                             feature             class\n",
       "0  [-217.35526      70.22338    -130.38527     -5...          dog_bark\n",
       "1  [-4.2409818e+02  1.0934077e+02 -5.2919525e+01 ...  children_playing\n",
       "2  [-4.5879114e+02  1.2138419e+02 -4.6520657e+01 ...  children_playing\n",
       "3  [-413.89984     101.66373     -35.42945      5...  children_playing\n",
       "4  [-4.4660352e+02  1.1368541e+02 -5.2402206e+01 ...  children_playing"
      ]
     },
     "execution_count": 93,
     "metadata": {},
     "output_type": "execute_result"
    }
   ],
   "source": [
    "df.head()"
   ]
  },
  {
   "cell_type": "code",
   "execution_count": 94,
   "metadata": {},
   "outputs": [],
   "source": [
    "X = np.array(df['feature'].tolist())"
   ]
  },
  {
   "cell_type": "code",
   "execution_count": 95,
   "metadata": {},
   "outputs": [
    {
     "data": {
      "text/plain": [
       "array(['[-217.35526      70.22338    -130.38527     -53.282898    -21.19913\\n  -22.677622    -10.85597      18.294254      6.652703     14.324025\\n  -12.167682      2.276837    -17.779188     10.388951     -6.5828357\\n   -0.69445693  -18.336023      1.9942534    -5.143332      8.3024\\n  -12.645056     -6.529732      4.6176677    -2.1799166    -6.662824\\n    0.35971075   -3.9084098     4.7756243    -6.384521     -5.379818\\n    0.9159783     6.9704943    -0.248668      1.6782187    -5.611182\\n   -2.9643466     3.1490574    -1.693053     -0.61698383    0.3860054 ]',\n",
       "       '[-4.2409818e+02  1.0934077e+02 -5.2919525e+01  6.0864750e+01\\n  2.4529226e-01  1.7347328e+01  2.0955827e+00  1.0712965e+01\\n -1.3986130e+00  1.2310798e+01 -1.1208863e+01  2.1075323e+01\\n -9.4902792e+00  1.3526470e+01 -2.3910522e-01  7.1590004e+00\\n -3.0809762e+00  1.1367645e+01 -6.3027668e+00  6.8781147e+00\\n -2.8902097e+00  8.7614346e+00 -2.3304420e+00  8.4166384e+00\\n -1.6700817e+00  1.2775005e+00 -4.4198775e+00  1.2626288e+00\\n -6.1339478e+00  8.6342728e-01 -1.0314474e+00  1.8680787e+00\\n -9.6006936e-01  3.6977090e-02 -1.5435147e-02 -7.1756355e-02\\n -1.5988851e+00  5.3489327e-01 -5.4468721e-01  4.4632098e-01]',\n",
       "       '[-4.5879114e+02  1.2138419e+02 -4.6520657e+01  5.2008121e+01\\n -3.8400551e-04  2.3783813e+01  8.7498064e+00  9.0524912e+00\\n -6.3642108e-01  1.0987134e+01 -1.1845447e+01  1.4543654e+01\\n -3.8885190e+00  1.1987381e+01 -1.0368067e+00  7.2843609e+00\\n -7.5073256e+00  4.2647753e+00 -3.1035852e+00  1.1912483e+01\\n  3.3477536e-01  7.0093689e+00 -1.7847930e+00  2.6741889e+00\\n -3.4278798e+00  2.3006959e+00 -2.1862602e+00 -7.4098930e-02\\n -2.3432751e+00  1.6402694e+00  9.8442411e-01 -1.2434468e+00\\n -4.0461001e+00 -2.1617262e+00 -1.4941733e+00 -1.7845904e+00\\n -1.4246194e+00  2.0768483e+00  1.6962965e+00 -9.6140963e-01]',\n",
       "       ...,\n",
       "       '[-3.0388824e+02  1.1135945e+02 -4.5941563e+01  3.5877018e+01\\n -9.1304121e+00  1.2614908e+01  2.7300639e+00  9.9832878e+00\\n -7.0454507e+00  5.5370898e+00 -8.5692606e+00  1.7427496e+00\\n -1.5263926e+01  1.0008882e+01 -5.4960380e+00  9.1911564e+00\\n -7.5049686e+00  7.3204598e+00 -9.3445292e+00  3.9245186e+00\\n -1.0397063e+01  3.3255870e+00 -9.1441479e+00  2.8926375e+00\\n -5.1470737e+00 -8.0791259e-01 -2.3088148e+00  2.2414241e+00\\n -3.2865803e+00 -5.0062747e+00 -6.4385524e+00  3.7068956e-02\\n  4.0990272e+00  6.5236378e+00  3.3175232e+00  1.9066246e+00\\n -3.7190053e+00 -3.0292380e+00  2.7170298e+00  7.6197419e+00]',\n",
       "       '[-3.4411008e+02  1.2545021e+02 -5.4903442e+01  3.4891148e+01\\n -1.9626827e+01  7.3526602e+00  1.3471235e+01  9.1430311e+00\\n -8.6734829e+00  1.8334299e+01 -1.0523457e+01  3.0135834e-01\\n -7.3160558e+00  1.2269431e+01 -4.6415491e+00  1.5144041e+01\\n -1.5641150e+00  6.3464046e+00 -5.8418379e+00  4.6391139e+00\\n -8.9316883e+00  4.2893257e+00 -1.1249496e+01  5.1453414e+00\\n  5.6558162e-01  3.4582140e+00 -5.0055647e+00  4.4535646e+00\\n  1.2557341e+00 -1.9600434e+00 -8.5223427e+00  2.4014349e+00\\n  5.9681649e+00  5.9176660e+00  1.5966666e+00  2.8460045e+00\\n -4.3401332e+00 -7.9082437e+00 -1.6414586e+00  5.6668439e+00]',\n",
       "       '[-315.6028       94.854805    -37.22234      46.778263     -6.728693\\n   10.012548     -1.6075529    18.511341    -11.9006195     7.5940356\\n   -7.8546596    11.362425    -15.617317      3.301991    -11.958161\\n    6.353489     -5.5870256    20.78539      -0.46922806    6.0436325\\n  -11.619548      2.8686748   -10.176432      8.332485      1.7765608\\n    2.5638974   -14.761059      1.1465564     3.7835658     3.1094651\\n  -12.185813     -3.0522916     3.7284145     8.962752      0.93064487\\n    3.18008       2.485049      0.6138646   -11.449189     -6.0105853 ]'],\n",
       "      dtype='<U650')"
      ]
     },
     "execution_count": 95,
     "metadata": {},
     "output_type": "execute_result"
    }
   ],
   "source": [
    "X"
   ]
  },
  {
   "cell_type": "code",
   "execution_count": 96,
   "metadata": {},
   "outputs": [],
   "source": [
    "preprocessed_features = df['feature'].str.replace('[', '').str.replace(']', '').str.strip()"
   ]
  },
  {
   "cell_type": "code",
   "execution_count": 97,
   "metadata": {},
   "outputs": [],
   "source": [
    "X = np.array([list(map(float, x.split())) for x in preprocessed_features], dtype=float)"
   ]
  },
  {
   "cell_type": "code",
   "execution_count": 98,
   "metadata": {},
   "outputs": [],
   "source": [
    "y=np.array(df['class'].tolist())"
   ]
  },
  {
   "cell_type": "code",
   "execution_count": 99,
   "metadata": {},
   "outputs": [
    {
     "name": "stdout",
     "output_type": "stream",
     "text": [
      "[[-2.1735526e+02  7.0223380e+01 -1.3038527e+02 ... -1.6930530e+00\n",
      "  -6.1698383e-01  3.8600540e-01]\n",
      " [-4.2409818e+02  1.0934077e+02 -5.2919525e+01 ...  5.3489327e-01\n",
      "  -5.4468721e-01  4.4632098e-01]\n",
      " [-4.5879114e+02  1.2138419e+02 -4.6520657e+01 ...  2.0768483e+00\n",
      "   1.6962965e+00 -9.6140963e-01]\n",
      " ...\n",
      " [-3.0388824e+02  1.1135945e+02 -4.5941563e+01 ... -3.0292380e+00\n",
      "   2.7170298e+00  7.6197419e+00]\n",
      " [-3.4411008e+02  1.2545021e+02 -5.4903442e+01 ... -7.9082437e+00\n",
      "  -1.6414586e+00  5.6668439e+00]\n",
      " [-3.1560280e+02  9.4854805e+01 -3.7222340e+01 ...  6.1386460e-01\n",
      "  -1.1449189e+01 -6.0105853e+00]]\n"
     ]
    }
   ],
   "source": [
    "print(X)"
   ]
  },
  {
   "cell_type": "code",
   "execution_count": 100,
   "metadata": {},
   "outputs": [
    {
     "name": "stdout",
     "output_type": "stream",
     "text": [
      "['dog_bark' 'children_playing' 'children_playing' ... 'car_horn'\n",
      " 'car_horn' 'car_horn']\n"
     ]
    }
   ],
   "source": [
    "print(y)"
   ]
  },
  {
   "cell_type": "markdown",
   "metadata": {},
   "source": [
    "### Splitting the dataset into train and test data"
   ]
  },
  {
   "cell_type": "code",
   "execution_count": 101,
   "metadata": {},
   "outputs": [],
   "source": [
    "X_train, X_test, y_train, y_test = train_test_split(X, y, test_size=0.2, random_state=50)"
   ]
  },
  {
   "cell_type": "code",
   "execution_count": 102,
   "metadata": {},
   "outputs": [
    {
     "name": "stdout",
     "output_type": "stream",
     "text": [
      "[[-2.0281561e+02  9.0853767e+01 -1.5599918e+01 ... -1.2615989e-01\n",
      "   1.5849239e+00  3.6405079e+00]\n",
      " [-3.4014130e+02  6.6774826e+01 -5.3332430e+00 ...  1.8007597e+00\n",
      "  -7.7393765e+00  1.5943365e+00]\n",
      " [-4.9140331e+01  5.8599373e+01 -4.6638958e+01 ...  1.6676491e-01\n",
      "  -5.8130422e+00 -7.8402179e-01]\n",
      " ...\n",
      " [-4.1301086e+02  1.4217776e+02 -2.3983858e+01 ... -5.5213118e-01\n",
      "  -3.5845306e+00 -9.4187123e-01]\n",
      " [-2.1355418e+02  1.4810828e+02 -2.9893005e+01 ... -1.6761602e+00\n",
      "   1.4046030e+00  1.4412450e+00]\n",
      " [-2.8706436e+02  1.8691911e+02 -4.8414795e+01 ... -4.1952372e+00\n",
      "   5.5748384e-02  8.5477322e-01]]\n"
     ]
    }
   ],
   "source": [
    "print(X_train)"
   ]
  },
  {
   "cell_type": "code",
   "execution_count": 103,
   "metadata": {
    "scrolled": true
   },
   "outputs": [
    {
     "name": "stdout",
     "output_type": "stream",
     "text": [
      "['air_conditioner' 'car_horn' 'children_playing' 'dog_bark' 'drilling'\n",
      " 'engine_idling' 'gun_shot' 'jackhammer' 'siren' 'street_music']\n"
     ]
    }
   ],
   "source": [
    "class_labels = np.unique(y)\n",
    "print(class_labels)"
   ]
  },
  {
   "cell_type": "markdown",
   "metadata": {},
   "source": [
    "# Executing KNN"
   ]
  },
  {
   "cell_type": "code",
   "execution_count": 104,
   "metadata": {},
   "outputs": [
    {
     "name": "stdout",
     "output_type": "stream",
     "text": [
      "Euclidean: ['drilling' 'drilling' 'air_conditioner' ... 'air_conditioner'\n",
      " 'children_playing' 'jackhammer']\n",
      "                  precision    recall  f1-score   support\n",
      "\n",
      " air_conditioner       0.96      0.97      0.96       230\n",
      "        car_horn       0.98      0.78      0.87        82\n",
      "children_playing       0.80      0.92      0.86       212\n",
      "        dog_bark       0.90      0.73      0.81       206\n",
      "        drilling       0.94      0.92      0.93       205\n",
      "   engine_idling       0.95      0.95      0.95       186\n",
      "        gun_shot       0.68      0.89      0.77        66\n",
      "      jackhammer       0.95      0.97      0.96       190\n",
      "           siren       0.94      0.97      0.95       185\n",
      "    street_music       0.85      0.86      0.86       185\n",
      "\n",
      "        accuracy                           0.90      1747\n",
      "       macro avg       0.90      0.89      0.89      1747\n",
      "    weighted avg       0.91      0.90      0.90      1747\n",
      "\n",
      "##################\n",
      "Chebyshev: ['drilling' 'drilling' 'air_conditioner' ... 'air_conditioner'\n",
      " 'children_playing' 'air_conditioner']\n",
      "                  precision    recall  f1-score   support\n",
      "\n",
      " air_conditioner       0.80      0.96      0.87       230\n",
      "        car_horn       0.75      0.76      0.75        82\n",
      "children_playing       0.59      0.86      0.70       212\n",
      "        dog_bark       0.78      0.66      0.71       206\n",
      "        drilling       0.81      0.79      0.80       205\n",
      "   engine_idling       0.84      0.88      0.86       186\n",
      "        gun_shot       0.77      0.62      0.69        66\n",
      "      jackhammer       0.91      0.88      0.90       190\n",
      "           siren       0.94      0.81      0.87       185\n",
      "    street_music       0.84      0.54      0.65       185\n",
      "\n",
      "        accuracy                           0.79      1747\n",
      "       macro avg       0.80      0.77      0.78      1747\n",
      "    weighted avg       0.81      0.79      0.79      1747\n",
      "\n",
      "##################\n",
      "Cosine: ['drilling' 'drilling' 'air_conditioner' ... 'air_conditioner'\n",
      " 'children_playing' 'jackhammer']\n",
      "                  precision    recall  f1-score   support\n",
      "\n",
      " air_conditioner       0.95      0.97      0.96       230\n",
      "        car_horn       0.94      0.82      0.88        82\n",
      "children_playing       0.85      0.96      0.90       212\n",
      "        dog_bark       0.94      0.80      0.86       206\n",
      "        drilling       0.95      0.93      0.94       205\n",
      "   engine_idling       0.95      0.96      0.95       186\n",
      "        gun_shot       0.83      0.83      0.83        66\n",
      "      jackhammer       0.96      0.97      0.97       190\n",
      "           siren       0.95      0.99      0.97       185\n",
      "    street_music       0.88      0.91      0.89       185\n",
      "\n",
      "        accuracy                           0.93      1747\n",
      "       macro avg       0.92      0.91      0.92      1747\n",
      "    weighted avg       0.93      0.93      0.92      1747\n",
      "\n",
      "##################\n"
     ]
    }
   ],
   "source": [
    "k=1\n",
    "knn1 = KNeighborsClassifier(n_neighbors=k, metric='euclidean')\n",
    "knn1.fit(X_train, y_train)\n",
    "y_pred_euclidean = knn1.predict(X_test)\n",
    "\n",
    "k=2\n",
    "knn2 = KNeighborsClassifier(n_neighbors=k, metric='chebyshev')\n",
    "knn2.fit(X_train, y_train)\n",
    "y_pred_chebyshev = knn2.predict(X_test)\n",
    "\n",
    "k=1\n",
    "knn3 = KNeighborsClassifier(n_neighbors=k, metric='cosine')\n",
    "knn3.fit(X_train, y_train)\n",
    "y_pred_cosine = knn3.predict(X_test)\n",
    "\n",
    "# Print the predicted labels\n",
    "print(\"Euclidean:\", y_pred_euclidean)\n",
    "report_euclidean = classification_report(y_test, y_pred_euclidean)\n",
    "print(report_euclidean)\n",
    "print(\"##################\")\n",
    "print(\"Chebyshev:\", y_pred_chebyshev)\n",
    "report_chebyshev = classification_report(y_test, y_pred_chebyshev)\n",
    "print(report_chebyshev)\n",
    "print(\"##################\")\n",
    "print(\"Cosine:\", y_pred_cosine)\n",
    "report_cosine = classification_report(y_test, y_pred_cosine)\n",
    "print(report_cosine)\n",
    "print(\"##################\")"
   ]
  },
  {
   "cell_type": "code",
   "execution_count": 105,
   "metadata": {},
   "outputs": [],
   "source": [
    "knn_pred= y_pred_cosine"
   ]
  },
  {
   "cell_type": "code",
   "execution_count": 106,
   "metadata": {},
   "outputs": [
    {
     "name": "stdout",
     "output_type": "stream",
     "text": [
      "Accuracy for k-NN: 0.9250143102461362\n"
     ]
    }
   ],
   "source": [
    "knn_accuracy = accuracy_score(y_test, knn_pred)\n",
    "print(\"Accuracy for k-NN:\", knn_accuracy)"
   ]
  },
  {
   "cell_type": "code",
   "execution_count": 107,
   "metadata": {},
   "outputs": [],
   "source": [
    "scores = cross_val_score(knn3, X_train, y_train, cv=5)  \n",
    "mean_score = scores.mean()"
   ]
  },
  {
   "cell_type": "code",
   "execution_count": 108,
   "metadata": {},
   "outputs": [
    {
     "name": "stdout",
     "output_type": "stream",
     "text": [
      "Cross-validation scores: [0.89835361 0.8940587  0.90837509 0.91839656 0.89692198]\n",
      "Mean cross-validation score: 0.9032211882605583\n"
     ]
    }
   ],
   "source": [
    "print(\"Cross-validation scores:\", scores)\n",
    "print(\"Mean cross-validation score:\", mean_score)"
   ]
  },
  {
   "cell_type": "code",
   "execution_count": 109,
   "metadata": {},
   "outputs": [],
   "source": [
    "knn_cm = confusion_matrix(y_test, knn_pred)"
   ]
  },
  {
   "cell_type": "code",
   "execution_count": 110,
   "metadata": {},
   "outputs": [
    {
     "name": "stdout",
     "output_type": "stream",
     "text": [
      "Confusion Matrix for k-NN:\n",
      "[[223   0   4   0   0   0   0   1   0   2]\n",
      " [  1  67   3   0   1   2   2   0   2   4]\n",
      " [  1   0 204   0   0   2   1   0   1   3]\n",
      " [  5   1  11 164   2   4   8   0   4   7]\n",
      " [  1   1   2   1 190   0   0   6   0   4]\n",
      " [  0   0   6   2   0 178   0   0   0   0]\n",
      " [  1   0   5   3   0   0  55   0   0   2]\n",
      " [  1   0   0   0   4   0   0 184   0   1]\n",
      " [  0   0   0   1   0   0   0   0 183   1]\n",
      " [  2   2   4   3   3   1   0   0   2 168]]\n"
     ]
    }
   ],
   "source": [
    "print(\"Confusion Matrix for k-NN:\")\n",
    "print(knn_cm)"
   ]
  },
  {
   "cell_type": "markdown",
   "metadata": {},
   "source": [
    "# Executing Random Forest"
   ]
  },
  {
   "cell_type": "code",
   "execution_count": 111,
   "metadata": {},
   "outputs": [],
   "source": [
    "#X_train"
   ]
  },
  {
   "cell_type": "code",
   "execution_count": 112,
   "metadata": {},
   "outputs": [],
   "source": [
    "#y_train"
   ]
  },
  {
   "cell_type": "code",
   "execution_count": 113,
   "metadata": {},
   "outputs": [],
   "source": [
    "#X_test"
   ]
  },
  {
   "cell_type": "code",
   "execution_count": 114,
   "metadata": {},
   "outputs": [],
   "source": [
    "#y_test"
   ]
  },
  {
   "cell_type": "code",
   "execution_count": 115,
   "metadata": {},
   "outputs": [
    {
     "data": {
      "text/plain": [
       "RandomForestClassifier(n_estimators=300, random_state=50)"
      ]
     },
     "execution_count": 115,
     "metadata": {},
     "output_type": "execute_result"
    }
   ],
   "source": [
    "random_forest_classifier = RandomForestClassifier(n_estimators=300,random_state=50)\n",
    "random_forest_classifier.fit(X_train, y_train)"
   ]
  },
  {
   "cell_type": "code",
   "execution_count": 116,
   "metadata": {},
   "outputs": [],
   "source": [
    "rf_pred = random_forest_classifier.predict(X_test)"
   ]
  },
  {
   "cell_type": "code",
   "execution_count": 117,
   "metadata": {},
   "outputs": [],
   "source": [
    "rf_accuracy = accuracy_score(y_test, rf_pred)"
   ]
  },
  {
   "cell_type": "code",
   "execution_count": 118,
   "metadata": {},
   "outputs": [
    {
     "name": "stdout",
     "output_type": "stream",
     "text": [
      "Random Forest Accuracy: 0.9009730967372639\n"
     ]
    }
   ],
   "source": [
    "print(\"Random Forest Accuracy:\", rf_accuracy)"
   ]
  },
  {
   "cell_type": "code",
   "execution_count": 119,
   "metadata": {},
   "outputs": [],
   "source": [
    "scores = cross_val_score(random_forest_classifier, X_train, y_train, cv=5)  \n",
    "mean_score = scores.mean()"
   ]
  },
  {
   "cell_type": "code",
   "execution_count": 120,
   "metadata": {},
   "outputs": [
    {
     "name": "stdout",
     "output_type": "stream",
     "text": [
      "Cross-validation scores: [0.88188976 0.88188976 0.88117394 0.88761632 0.88976378]\n",
      "Mean cross-validation score: 0.8844667143879743\n"
     ]
    }
   ],
   "source": [
    "print(\"Cross-validation scores:\", scores)\n",
    "print(\"Mean cross-validation score:\", mean_score)"
   ]
  },
  {
   "cell_type": "code",
   "execution_count": 121,
   "metadata": {},
   "outputs": [],
   "source": [
    "randomforest_cm = confusion_matrix(y_test, rf_pred)"
   ]
  },
  {
   "cell_type": "code",
   "execution_count": 122,
   "metadata": {},
   "outputs": [
    {
     "name": "stdout",
     "output_type": "stream",
     "text": [
      "Confusion Matrix:\n",
      "[[221   0   2   0   0   0   0   3   0   4]\n",
      " [  0  68   0   0   2   2   0   2   2   6]\n",
      " [  1   1 188   9   3   2   0   2   1   5]\n",
      " [  0   0  17 164   2   6   1   1   5  10]\n",
      " [  1   0   1   3 185   0   0   9   0   6]\n",
      " [  1   0   6   1   0 177   0   0   1   0]\n",
      " [  0   0   3  11   0   0  50   0   0   2]\n",
      " [  0   0   1   0   3   0   0 186   0   0]\n",
      " [  1   0   3   2   1   0   0   1 176   1]\n",
      " [  1   0  11   6   4   1   0   3   0 159]]\n"
     ]
    }
   ],
   "source": [
    "print(\"Confusion Matrix:\")\n",
    "print(randomforest_cm)"
   ]
  },
  {
   "cell_type": "code",
   "execution_count": 123,
   "metadata": {},
   "outputs": [
    {
     "name": "stdout",
     "output_type": "stream",
     "text": [
      "                  precision    recall  f1-score   support\n",
      "\n",
      " air_conditioner       0.98      0.96      0.97       230\n",
      "        car_horn       0.99      0.83      0.90        82\n",
      "children_playing       0.81      0.89      0.85       212\n",
      "        dog_bark       0.84      0.80      0.82       206\n",
      "        drilling       0.93      0.90      0.91       205\n",
      "   engine_idling       0.94      0.95      0.95       186\n",
      "        gun_shot       0.98      0.76      0.85        66\n",
      "      jackhammer       0.90      0.98      0.94       190\n",
      "           siren       0.95      0.95      0.95       185\n",
      "    street_music       0.82      0.86      0.84       185\n",
      "\n",
      "        accuracy                           0.90      1747\n",
      "       macro avg       0.91      0.89      0.90      1747\n",
      "    weighted avg       0.90      0.90      0.90      1747\n",
      "\n"
     ]
    }
   ],
   "source": [
    "report = classification_report(y_test, rf_pred)\n",
    "print(report)\n"
   ]
  },
  {
   "cell_type": "markdown",
   "metadata": {},
   "source": [
    "# SVM"
   ]
  },
  {
   "cell_type": "code",
   "execution_count": 124,
   "metadata": {},
   "outputs": [],
   "source": [
    "X_train, X_test, y_train, y_test = train_test_split(X, y, test_size=0.2, random_state=50)"
   ]
  },
  {
   "cell_type": "code",
   "execution_count": 125,
   "metadata": {},
   "outputs": [
    {
     "data": {
      "text/plain": [
       "SVC(C=1000, random_state=50)"
      ]
     },
     "execution_count": 125,
     "metadata": {},
     "output_type": "execute_result"
    }
   ],
   "source": [
    "svm_classifier = SVC(kernel='rbf', C=1000, gamma= 'scale', random_state=50)\n",
    "svm_classifier.fit(X_train, y_train)"
   ]
  },
  {
   "cell_type": "code",
   "execution_count": 126,
   "metadata": {},
   "outputs": [],
   "source": [
    "svm_pred = svm_classifier.predict(X_test)"
   ]
  },
  {
   "cell_type": "code",
   "execution_count": 127,
   "metadata": {},
   "outputs": [
    {
     "name": "stdout",
     "output_type": "stream",
     "text": [
      "SVM Accuracy: 0.8700629650829994\n"
     ]
    }
   ],
   "source": [
    "svm_accuracy = accuracy_score(y_test, svm_pred)\n",
    "print(\"SVM Accuracy:\", svm_accuracy)"
   ]
  },
  {
   "cell_type": "code",
   "execution_count": 128,
   "metadata": {},
   "outputs": [],
   "source": [
    "scores = cross_val_score(svm_classifier, X_train, y_train, cv=5)  \n",
    "mean_score = scores.mean()"
   ]
  },
  {
   "cell_type": "code",
   "execution_count": 129,
   "metadata": {},
   "outputs": [
    {
     "name": "stdout",
     "output_type": "stream",
     "text": [
      "Cross-validation scores: [0.85468862 0.85540444 0.85898354 0.85969936 0.87329993]\n",
      "Mean cross-validation score: 0.8604151753758054\n"
     ]
    }
   ],
   "source": [
    "print(\"Cross-validation scores:\", scores)\n",
    "print(\"Mean cross-validation score:\", mean_score)"
   ]
  },
  {
   "cell_type": "code",
   "execution_count": 130,
   "metadata": {},
   "outputs": [
    {
     "name": "stdout",
     "output_type": "stream",
     "text": [
      "Confusion Matrix:\n",
      "[[218   0   3   0   0   0   0   2   1   6]\n",
      " [  1  73   0   2   0   2   0   0   1   3]\n",
      " [  5   0 181   7   0   2   2   2   2  11]\n",
      " [  3   4  14 142   3   6  16   2   3  13]\n",
      " [  4   0   3   4 183   0   1   6   0   4]\n",
      " [  2   0   4   2   0 173   2   0   0   3]\n",
      " [  0   0   4   3   0   0  59   0   0   0]\n",
      " [  0   0   3   0   4   0   0 182   0   1]\n",
      " [  0   0   6   2   1   0   0   0 176   0]\n",
      " [  7   3  22   7   3   2   2   5   1 133]]\n"
     ]
    }
   ],
   "source": [
    "svm_cm = confusion_matrix(y_test, svm_pred)\n",
    "print(\"Confusion Matrix:\")\n",
    "print(svm_cm)"
   ]
  },
  {
   "cell_type": "code",
   "execution_count": 131,
   "metadata": {},
   "outputs": [
    {
     "name": "stdout",
     "output_type": "stream",
     "text": [
      "                  precision    recall  f1-score   support\n",
      "\n",
      " air_conditioner       0.91      0.95      0.93       230\n",
      "        car_horn       0.91      0.89      0.90        82\n",
      "children_playing       0.75      0.85      0.80       212\n",
      "        dog_bark       0.84      0.69      0.76       206\n",
      "        drilling       0.94      0.89      0.92       205\n",
      "   engine_idling       0.94      0.93      0.93       186\n",
      "        gun_shot       0.72      0.89      0.80        66\n",
      "      jackhammer       0.91      0.96      0.94       190\n",
      "           siren       0.96      0.95      0.95       185\n",
      "    street_music       0.76      0.72      0.74       185\n",
      "\n",
      "        accuracy                           0.87      1747\n",
      "       macro avg       0.86      0.87      0.87      1747\n",
      "    weighted avg       0.87      0.87      0.87      1747\n",
      "\n"
     ]
    }
   ],
   "source": [
    "report = classification_report(y_test, svm_pred)\n",
    "print(report)"
   ]
  },
  {
   "cell_type": "markdown",
   "metadata": {},
   "source": [
    "# Plot"
   ]
  },
  {
   "cell_type": "code",
   "execution_count": 132,
   "metadata": {},
   "outputs": [
    {
     "data": {
      "image/png": "[encoded data removed]",
      "text/plain": [
       "<Figure size 864x288 with 3 Axes>"
      ]
     },
     "metadata": {
      "needs_background": "light"
     },
     "output_type": "display_data"
    }
   ],
   "source": [
    "plt.figure(figsize=(12, 4))\n",
    "\n",
    "plt.subplot(131)\n",
    "sns.heatmap(knn_cm, annot=True, fmt='d', cmap='Blues', cbar=False)\n",
    "plt.title('KNN Confusion Matrix')\n",
    "\n",
    "plt.subplot(132)\n",
    "sns.heatmap(randomforest_cm, annot=True, fmt='d', cmap='Greens', cbar=False)\n",
    "plt.title('Random Forest Confusion Matrix')\n",
    "\n",
    "plt.subplot(133)\n",
    "sns.heatmap(svm_cm, annot=True, fmt='d', cmap='Oranges', cbar=False)\n",
    "plt.title('SVM Confusion Matrix')\n",
    "\n",
    "plt.tight_layout()\n",
    "plt.show()"
   ]
  },
  {
   "cell_type": "code",
   "execution_count": 133,
   "metadata": {},
   "outputs": [
    {
     "name": "stdout",
     "output_type": "stream",
     "text": [
      "SVM Accuracy: 0.8700629650829994\n",
      "Random Forest Accuracy: 0.9009730967372639\n",
      "Accuracy for k-NN: 0.9250143102461362\n"
     ]
    }
   ],
   "source": [
    "print(\"SVM Accuracy:\", svm_accuracy)\n",
    "print(\"Random Forest Accuracy:\", rf_accuracy)\n",
    "print(\"Accuracy for k-NN:\", knn_accuracy)"
   ]
  },
  {
   "cell_type": "code",
   "execution_count": 134,
   "metadata": {},
   "outputs": [
    {
     "data": {
      "image/png": "[encoded data removed]",
      "text/plain": [
       "<Figure size 576x432 with 1 Axes>"
      ]
     },
     "metadata": {
      "needs_background": "light"
     },
     "output_type": "display_data"
    }
   ],
   "source": [
    "accuracy_scores = [0.92, 0.90, 0.87]  # Replace with your actual accuracy scores\n",
    "\n",
    "# Algorithms names\n",
    "algorithms = ['KNN', 'Random Forest', 'SVM']  # Replace with your actual algorithm names\n",
    "\n",
    "# Plotting the bar graph\n",
    "plt.figure(figsize=(8, 6))\n",
    "plt.bar(algorithms, accuracy_scores, color='green')\n",
    "\n",
    "# Adding labels and title\n",
    "plt.xlabel('Algorithms')\n",
    "plt.ylabel('Accuracy')\n",
    "plt.title('Accuracy of Different Algorithms')\n",
    "\n",
    "# Displaying the plot\n",
    "plt.show()"
   ]
  },
  {
   "cell_type": "code",
   "execution_count": null,
   "metadata": {},
   "outputs": [],
   "source": []
  },
  {
   "cell_type": "code",
   "execution_count": null,
   "metadata": {},
   "outputs": [],
   "source": []
  },
  {
   "cell_type": "code",
   "execution_count": null,
   "metadata": {},
   "outputs": [],
   "source": []
  }
 ],
 "metadata": {
  "kernelspec": {
   "display_name": "Python 3",
   "language": "python",
   "name": "python3"
  },
  "language_info": {
   "codemirror_mode": {
    "name": "ipython",
    "version": 3
   },
   "file_extension": ".py",
   "mimetype": "text/x-python",
   "name": "python",
   "nbconvert_exporter": "python",
   "pygments_lexer": "ipython3",
   "version": "3.8.3"
  }
 },
 "nbformat": 4,
 "nbformat_minor": 4
}
